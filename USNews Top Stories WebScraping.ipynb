{
 "cells": [
  {
   "cell_type": "markdown",
   "metadata": {},
   "source": [
    "# USNews Top Stories WebScraping"
   ]
  },
  {
   "cell_type": "markdown",
   "metadata": {},
   "source": [
    "In this small project, I used the website of usnews to do an example of web scraping.\n",
    "\n",
    "I decoded the html website code of usnews, then identified the **second** story of top stories. I web-scraped the title and the first three lines of body text of the second story using \"tokenize\".\n",
    "\n",
    "At last, I wrote about why I chose to go for the way I used.  \n",
    "Why I used tokenize to split sentences rather than using '.'.  \n",
    "Why I further identified paragraphs rather than just go with the text of main_body."
   ]
  },
  {
   "cell_type": "code",
   "execution_count": 1,
   "metadata": {},
   "outputs": [],
   "source": [
    "# The requests module allows you to send HTTP requests using Python.\n",
    "import requests\n",
    "#import urllib.request\n",
    "import re\n",
    "from bs4 import BeautifulSoup as BS"
   ]
  },
  {
   "cell_type": "markdown",
   "metadata": {},
   "source": [
    "## Go to the USNews website."
   ]
  },
  {
   "cell_type": "markdown",
   "metadata": {},
   "source": [
    "Set the url to the website and access the site with the requests library.\n",
    "\n",
    "Response 200 means it went through.\n",
    "    \n",
    "**NOTE:**\n",
    "We need to set the agent and make it the header to connect."
   ]
  },
  {
   "cell_type": "code",
   "execution_count": 2,
   "metadata": {},
   "outputs": [
    {
     "data": {
      "text/plain": [
       "<Response [200]>"
      ]
     },
     "execution_count": 2,
     "metadata": {},
     "output_type": "execute_result"
    }
   ],
   "source": [
    "url = 'https://www.usnews.com'\n",
    "agent = {\"User-Agent\":'Mozilla/5.0'}\n",
    "response = requests.get(url, headers = agent)\n",
    "response"
   ]
  },
  {
   "cell_type": "markdown",
   "metadata": {},
   "source": [
    "## Parse the html with BeautifulSoup\n",
    "So that we can work with a nicer, nested BeautifulSoup data structure. "
   ]
  },
  {
   "cell_type": "code",
   "execution_count": 3,
   "metadata": {},
   "outputs": [],
   "source": [
    "soup = BS(response.text, \"html.parser\")\n",
    "# or\n",
    "# soup = bs(response.content, \"html.parser\")"
   ]
  },
  {
   "cell_type": "markdown",
   "metadata": {},
   "source": [
    "## Identify the second story of \"Top Stories\". Fetch the link and get redirected to the page of that story."
   ]
  },
  {
   "cell_type": "markdown",
   "metadata": {},
   "source": [
    "By inspect the html code, we find the story line titles are coded in the tag h3.\n",
    "We use the method [.findAll] to locate all of the h3 tags. This gives every line of code that has an h3 tag."
   ]
  },
  {
   "cell_type": "code",
   "execution_count": 4,
   "metadata": {},
   "outputs": [
    {
     "data": {
      "text/plain": [
       "[<h3 class=\"Heading-bocdeh-1 iqkCSQ Heading__HeadingStyled-bocdeh-0-h3 jqIpxp\" size=\"6\" spacing=\"4\">Panic and Play During the Pandemic </h3>,\n",
       " <h3 class=\"Heading-bocdeh-1 iqkCSQ Heading__HeadingStyled-bocdeh-0-h3 cYppwF\" size=\"4\" spacing=\"3\">Panic and Play During the Pandemic </h3>,\n",
       " <h3 class=\"story-headline ContentBox__StoryHeading-s48yiwo-3 ktdZVE Heading-bocdeh-1 iqkCSQ Heading__HeadingStyled-bocdeh-0-h3 TtOgA\" size=\"2\" spacing=\"3\">The Latest on the Coronavirus</h3>,\n",
       " <h3 class=\"story-headline ContentBox__StoryHeading-s48yiwo-3 ktdZVE Heading-bocdeh-1 iqkCSQ Heading__HeadingStyled-bocdeh-0-h3 TtOgA\" size=\"2\" spacing=\"3\">Signs It's Time to Find a New Job</h3>,\n",
       " <h3 class=\"story-headline ContentBox__StoryHeading-s48yiwo-3 ktdZVE Heading-bocdeh-1 iqkCSQ Heading__HeadingStyled-bocdeh-0-h3 TtOgA\" size=\"2\" spacing=\"3\"><a href=\"https://www.usnews.com/news/world-report/articles/2020-03-19/italy-coronavirus-death-toll-surpasses-china\">Italy Virus Death Toll Surpasses China</a></h3>,\n",
       " <h3 class=\"story-headline ContentBox__StoryHeading-s48yiwo-3 ktdZVE Heading-bocdeh-1 iqkCSQ Heading__HeadingStyled-bocdeh-0-h3 TtOgA\" size=\"2\" spacing=\"3\"><a href=\"https://www.usnews.com/news/national-news/articles/2020-03-19/us-quarantines-troops-in-afghanistan-amid-coronavirus-fallout\">U.S. Quarantines Troops in Afghanistan</a></h3>,\n",
       " <h3 class=\"story-headline ContentBox__StoryHeading-s48yiwo-3 ktdZVE Heading-bocdeh-1 iqkCSQ Heading__HeadingStyled-bocdeh-0-h3 TtOgA\" size=\"2\" spacing=\"3\"><a href=\"https://www.usnews.com/education/best-graduate-schools/top-medical-schools/articles/how-medical-students-can-protect-themselves-during-the-coronavirus-outbreak\">How Med Students Can Respond to COVID-19</a></h3>,\n",
       " <h3 class=\"story-headline Heading-bocdeh-1 iqkCSQ Heading__HeadingStyled-bocdeh-0-h3 jkSLwM\" size=\"1\" spacing=\"3\"><a class=\"Anchor-s1mkgztv-0 gPdGYK\" href=\"https://www.usnews.com/news/national-news/articles/2020-03-13/americas-religious-communities-confront-coronavirus\" letter-spacing=\"0.6\" prefix=\"\\00ab\\00a0\">Religious Life in the Time of Coronavirus</a></h3>,\n",
       " <h3 class=\"story-headline Heading-bocdeh-1 iqkCSQ Heading__HeadingStyled-bocdeh-0-h3 jkSLwM\" size=\"1\" spacing=\"3\"><a class=\"Anchor-s1mkgztv-0 gPdGYK\" href=\"https://health.usnews.com/conditions/articles/covid-19-how-do-you-know-if-your-parent-is-safe-in-a-nursing-home\" letter-spacing=\"0.6\" prefix=\"\\00ab\\00a0\">COVID-19 and Nursing Home Safety</a></h3>,\n",
       " <h3 class=\"story-headline Heading-bocdeh-1 iqkCSQ Heading__HeadingStyled-bocdeh-0-h3 jkSLwM\" size=\"1\" spacing=\"3\"><a class=\"Anchor-s1mkgztv-0 gPdGYK\" href=\"https://www.usnews.com/news/best-countries/slideshows/which-countries-to-avoid-during-spread-of-coronavirus\" letter-spacing=\"0.6\" prefix=\"\\00ab\\00a0\">Which Countries to Avoid During Spread of Coronavirus</a></h3>,\n",
       " <h3 class=\"story-headline Heading-bocdeh-1 iqkCSQ Heading__HeadingStyled-bocdeh-0-h3 jkSLwM\" size=\"1\" spacing=\"3\"><a class=\"Anchor-s1mkgztv-0 gPdGYK\" href=\"https://money.usnews.com/money/personal-finance/articles/free-education-apps-to-keep-kids-entertained\" letter-spacing=\"0.6\" prefix=\"\\00ab\\00a0\">Free Education Apps for Kids</a></h3>,\n",
       " <h3 class=\"story-headline Heading-bocdeh-1 iqkCSQ Heading__HeadingStyled-bocdeh-0-h3 jkSLwM\" size=\"1\" spacing=\"3\"><a class=\"Anchor-s1mkgztv-0 gPdGYK\" href=\"https://www.usnews.com/news/best-countries/articles/2020-03-12/germanys-bureaucracy-hinders-public-response-to-coronavirus\" letter-spacing=\"0.6\" prefix=\"\\00ab\\00a0\">Germany’s Bureaucracy Stalls Virus Fight</a></h3>,\n",
       " <h3 class=\"story-headline Heading-bocdeh-1 iqkCSQ Heading__HeadingStyled-bocdeh-0-h3 jkSLwM\" size=\"1\" spacing=\"3\"><a class=\"Anchor-s1mkgztv-0 gPdGYK\" href=\"https://www.usnews.com/education/best-graduate-schools/top-law-schools/articles/why-foreign-trained-lawyers-should-consider-a-2-year-jd\" letter-spacing=\"0.6\" prefix=\"\\00ab\\00a0\">Family Caregiving During Coronavirus</a></h3>,\n",
       " <h3 class=\"story-headline Heading-bocdeh-1 iqkCSQ Heading__HeadingStyled-bocdeh-0-h3 jkSLwM\" size=\"1\" spacing=\"3\"><a class=\"Anchor-s1mkgztv-0 gPdGYK\" href=\"https://money.usnews.com/money/personal-finance/spending/articles/the-best-bedding-brands-to-buy\" letter-spacing=\"0.6\" prefix=\"\\00ab\\00a0\">The Best Bedding Brands to Buy</a></h3>,\n",
       " <h3 class=\"story-headline Heading-bocdeh-1 iqkCSQ Heading__HeadingStyled-bocdeh-0-h3 jkSLwM\" size=\"1\" spacing=\"3\"><a class=\"Anchor-s1mkgztv-0 gPdGYK\" href=\"https://health.usnews.com/wellness/for-parents/articles/coronavirus-talking-points-for-parents-discussing-the-pandemic-with-kids\" letter-spacing=\"0.6\" prefix=\"\\00ab\\00a0\">Talking With Your Kids About COVID-19</a></h3>,\n",
       " <h3 class=\"Heading-bocdeh-1 iqkCSQ Heading__HeadingStyled-bocdeh-0-h3 fMfqzF\" size=\"2\" spacing=\"2\"><a href=\"/education\">Education</a></h3>,\n",
       " <h3 class=\"Heading-bocdeh-1 iqkCSQ Heading__HeadingStyled-bocdeh-0-h3 fMfqzF\" size=\"2\" spacing=\"2\"><a href=\"https://health.usnews.com\">Health</a></h3>,\n",
       " <h3 class=\"Heading-bocdeh-1 iqkCSQ Heading__HeadingStyled-bocdeh-0-h3 fMfqzF\" size=\"2\" spacing=\"2\"><a href=\"https://cars.usnews.com/cars-trucks\">Cars</a></h3>,\n",
       " <h3 class=\"Heading-bocdeh-1 iqkCSQ Heading__HeadingStyled-bocdeh-0-h3 fMfqzF\" size=\"2\" spacing=\"2\"><a href=\"https://money.usnews.com/\">Money</a></h3>,\n",
       " <h3 class=\"Heading-bocdeh-1 iqkCSQ Heading__HeadingStyled-bocdeh-0-h3 fMfqzF\" size=\"2\" spacing=\"2\"><a href=\"https://travel.usnews.com/\">Travel</a></h3>,\n",
       " <h3 class=\"Heading-bocdeh-1 iqkCSQ Heading__HeadingStyled-bocdeh-0-h3 fMfqzF\" size=\"2\" spacing=\"2\"><a href=\"https://realestate.usnews.com/\">Real Estate</a></h3>,\n",
       " <h3 class=\"Heading-bocdeh-1 iqkCSQ Heading__HeadingStyled-bocdeh-0-h3 fMfqzF\" size=\"2\" spacing=\"2\"><a href=\"https://bestlawfirms.usnews.com/\">Law Firms</a></h3>,\n",
       " <h3 class=\"Heading-bocdeh-1 iqkCSQ Heading__HeadingStyled-bocdeh-0-h3 fMfqzF\" size=\"2\" spacing=\"2\">Governance</h3>,\n",
       " <h3 class=\"BadgeBox__PanelHeading-s1hru1rj-7 dwUuwQ Heading-bocdeh-1 iqkCSQ Heading__HeadingStyled-bocdeh-0-h3 UPLLS\" size=\"3\" spacing=\"2\">U.S. News Rankings</h3>,\n",
       " <h3 class=\"Heading-bocdeh-1 iqkCSQ Heading__HeadingStyled-bocdeh-0-h3 fMfqzF\" size=\"2\" spacing=\"2\"><a href=\"/education\">Education</a></h3>,\n",
       " <h3 class=\"Heading-bocdeh-1 iqkCSQ Heading__HeadingStyled-bocdeh-0-h3 fMfqzF\" size=\"2\" spacing=\"2\"><a href=\"https://health.usnews.com\">Health</a></h3>,\n",
       " <h3 class=\"Heading-bocdeh-1 iqkCSQ Heading__HeadingStyled-bocdeh-0-h3 fMfqzF\" size=\"2\" spacing=\"2\"><a href=\"https://cars.usnews.com/cars-trucks\">Cars</a></h3>,\n",
       " <h3 class=\"Heading-bocdeh-1 iqkCSQ Heading__HeadingStyled-bocdeh-0-h3 fMfqzF\" size=\"2\" spacing=\"2\"><a href=\"https://money.usnews.com/\">Money</a></h3>,\n",
       " <h3 class=\"Heading-bocdeh-1 iqkCSQ Heading__HeadingStyled-bocdeh-0-h3 fMfqzF\" size=\"2\" spacing=\"2\"><a href=\"https://travel.usnews.com/\">Travel</a></h3>,\n",
       " <h3 class=\"Heading-bocdeh-1 iqkCSQ Heading__HeadingStyled-bocdeh-0-h3 fMfqzF\" size=\"2\" spacing=\"2\"><a href=\"https://realestate.usnews.com/\">Real Estate</a></h3>,\n",
       " <h3 class=\"Heading-bocdeh-1 iqkCSQ Heading__HeadingStyled-bocdeh-0-h3 fMfqzF\" size=\"2\" spacing=\"2\"><a href=\"https://bestlawfirms.usnews.com/\">Law Firms</a></h3>,\n",
       " <h3 class=\"Heading-bocdeh-1 iqkCSQ Heading__HeadingStyled-bocdeh-0-h3 fMfqzF\" size=\"2\" spacing=\"2\">Governance</h3>,\n",
       " <h3 class=\"Heading-bocdeh-1 iqkCSQ Heading__HeadingStyled-bocdeh-0-h3 fjULdx\" size=\"7\" spacing=\"4\">Coronavirus in NYC Causes Uncertainty</h3>,\n",
       " <h3 class=\"Heading-bocdeh-1 iqkCSQ Heading__HeadingStyled-bocdeh-0-h3 hDTbA\" size=\"3\" spacing=\"3\">Coronavirus in NYC Causes Uncertainty</h3>,\n",
       " <h3 class=\"Heading-bocdeh-1 iqkCSQ Heading__HeadingStyled-bocdeh-0-h3 hDTbA\" size=\"3\" spacing=\"3\">Photos: America at Standstill</h3>,\n",
       " <h3 class=\"Heading-bocdeh-1 iqkCSQ Heading__HeadingStyled-bocdeh-0-h3 hDTbA\" size=\"3\" spacing=\"3\">Photos: The Global Coronavirus Outbreak</h3>,\n",
       " <h3 class=\"FeatureBox__Title-s6vfv7e-2 glbDkE Heading-bocdeh-1 iqkCSQ Heading__HeadingStyled-bocdeh-0-h3 hqVMWB\" size=\"2\" spacing=\"0\">Coronavirus and Student Loan Payments</h3>,\n",
       " <h3 class=\"BadgeBox__PanelHeading-s1hru1rj-7 dwUuwQ Heading-bocdeh-1 iqkCSQ Heading__HeadingStyled-bocdeh-0-h3 kjDJfV\" size=\"2\" spacing=\"0\">Education Rankings</h3>,\n",
       " <h3 class=\"FeatureBox__Title-s6vfv7e-2 glbDkE Heading-bocdeh-1 iqkCSQ Heading__HeadingStyled-bocdeh-0-h3 hqVMWB\" size=\"2\" spacing=\"0\">Coping With Coronavirus Anxiety</h3>,\n",
       " <h3 class=\"BadgeBox__PanelHeading-s1hru1rj-7 dwUuwQ Heading-bocdeh-1 iqkCSQ Heading__HeadingStyled-bocdeh-0-h3 kjDJfV\" size=\"2\" spacing=\"0\">Health Rankings</h3>,\n",
       " <h3 class=\"FeatureBox__Title-s6vfv7e-2 glbDkE Heading-bocdeh-1 iqkCSQ Heading__HeadingStyled-bocdeh-0-h3 hqVMWB\" size=\"2\" spacing=\"0\">6 Stocks That Survived the Coronavirus Sell-Off</h3>,\n",
       " <h3 class=\"BadgeBox__PanelHeading-s1hru1rj-7 dwUuwQ Heading-bocdeh-1 iqkCSQ Heading__HeadingStyled-bocdeh-0-h3 kjDJfV\" size=\"2\" spacing=\"0\">Money Rankings</h3>,\n",
       " <h3 class=\"FeatureBox__Title-s6vfv7e-2 glbDkE Heading-bocdeh-1 iqkCSQ Heading__HeadingStyled-bocdeh-0-h3 hqVMWB\" size=\"2\" spacing=\"0\">Coronavirus Travel: What You Must Know</h3>,\n",
       " <h3 class=\"BadgeBox__PanelHeading-s1hru1rj-7 dwUuwQ Heading-bocdeh-1 iqkCSQ Heading__HeadingStyled-bocdeh-0-h3 kjDJfV\" size=\"2\" spacing=\"0\">Travel Rankings</h3>,\n",
       " <h3 class=\"FeatureBox__Title-s6vfv7e-2 glbDkE Heading-bocdeh-1 iqkCSQ Heading__HeadingStyled-bocdeh-0-h3 hqVMWB\" size=\"2\" spacing=\"0\">2019 Best New and Used Cars for Teens</h3>,\n",
       " <h3 class=\"BadgeBox__PanelHeading-s1hru1rj-7 dwUuwQ Heading-bocdeh-1 iqkCSQ Heading__HeadingStyled-bocdeh-0-h3 kjDJfV\" size=\"2\" spacing=\"0\">Car Rankings</h3>,\n",
       " <h3 class=\"FeatureBox__Title-s6vfv7e-2 glbDkE Heading-bocdeh-1 iqkCSQ Heading__HeadingStyled-bocdeh-0-h3 hqVMWB\" size=\"2\" spacing=\"0\">How Do I Find My Property Lines?</h3>,\n",
       " <h3 class=\"BadgeBox__PanelHeading-s1hru1rj-7 dwUuwQ Heading-bocdeh-1 iqkCSQ Heading__HeadingStyled-bocdeh-0-h3 kjDJfV\" size=\"2\" spacing=\"0\">Real Estate</h3>,\n",
       " <h3 class=\"FeatureBox__Title-s6vfv7e-2 glbDkE Heading-bocdeh-1 iqkCSQ Heading__HeadingStyled-bocdeh-0-h3 hqVMWB\" size=\"2\" spacing=\"0\">Home Security Systems: A U.S. News Guide</h3>,\n",
       " <h3 class=\"BadgeBox__PanelHeading-s1hru1rj-7 dwUuwQ Heading-bocdeh-1 iqkCSQ Heading__HeadingStyled-bocdeh-0-h3 kjDJfV\" size=\"2\" spacing=\"0\">360 Reviews</h3>]"
      ]
     },
     "execution_count": 4,
     "metadata": {},
     "output_type": "execute_result"
    }
   ],
   "source": [
    "# get all the <h3> nodes\n",
    "soup.findAll('h3')"
   ]
  },
  {
   "cell_type": "markdown",
   "metadata": {},
   "source": [
    "But what we want is the second story which begins on the line 6. \n",
    "\n",
    "**Note:** Line 6 is the 5th [5].\n",
    "\n",
    "We further use [find] to find the tag a of next layer.  \n",
    "Then we return the 'href' attribute of the tag a.  \n",
    "\n",
    "    NOTE: (use type() to check)  \n",
    "    return a tag: .find()  \n",
    "    return a resultset: .findAll()  \n",
    "    return an attribute: node[]  "
   ]
  },
  {
   "cell_type": "code",
   "execution_count": 5,
   "metadata": {},
   "outputs": [
    {
     "data": {
      "text/plain": [
       "'https://www.usnews.com/news/national-news/articles/2020-03-19/us-quarantines-troops-in-afghanistan-amid-coronavirus-fallout'"
      ]
     },
     "execution_count": 5,
     "metadata": {},
     "output_type": "execute_result"
    }
   ],
   "source": [
    "second_story = soup.findAll('h3')[5]\n",
    "link = second_story.find('a')['href']\n",
    "link"
   ]
  },
  {
   "cell_type": "markdown",
   "metadata": {},
   "source": [
    "**Another way**"
   ]
  },
  {
   "cell_type": "code",
   "execution_count": 25,
   "metadata": {},
   "outputs": [],
   "source": [
    "h2 = soup.find('h2', text = \"Top Stories\")\n",
    "links = h2.find_next_sibling().select('a') # select return a list\n",
    "\n",
    "url2ndTopStory = links[3].get('href')\n",
    "print('url2ndTopStory: \\n', url2ndTopStory)"
   ]
  },
  {
   "cell_type": "markdown",
   "metadata": {},
   "source": [
    "Go to the second story page."
   ]
  },
  {
   "cell_type": "code",
   "execution_count": 6,
   "metadata": {},
   "outputs": [
    {
     "data": {
      "text/plain": [
       "<Response [200]>"
      ]
     },
     "execution_count": 6,
     "metadata": {},
     "output_type": "execute_result"
    }
   ],
   "source": [
    "response2 = requests.get(link, headers = agent)\n",
    "response2"
   ]
  },
  {
   "cell_type": "markdown",
   "metadata": {},
   "source": [
    "## Get the header of the story."
   ]
  },
  {
   "cell_type": "code",
   "execution_count": 7,
   "metadata": {},
   "outputs": [],
   "source": [
    "soup2 = BS(response2.text, \"html.parser\")"
   ]
  },
  {
   "cell_type": "code",
   "execution_count": 8,
   "metadata": {
    "scrolled": true
   },
   "outputs": [
    {
     "name": "stdout",
     "output_type": "stream",
     "text": [
      "U.S. Quarantines Troops in Afghanistan Amid Coronavirus Fallout\n"
     ]
    }
   ],
   "source": [
    "header = soup2.find('h1')\n",
    "print(header.text)"
   ]
  },
  {
   "cell_type": "markdown",
   "metadata": {},
   "source": [
    "## Print the first three sentences of the main body."
   ]
  },
  {
   "cell_type": "markdown",
   "metadata": {},
   "source": [
    "We can find the specific element easily by its id and class.\n",
    "Here, the id helps us navigate to the main body text, while the class helps us identify the paragraphs in the main body text rather than the external links or images."
   ]
  },
  {
   "cell_type": "code",
   "execution_count": 9,
   "metadata": {},
   "outputs": [],
   "source": [
    "main_body = soup2.find(id='ad-in-text-target')"
   ]
  },
  {
   "cell_type": "markdown",
   "metadata": {},
   "source": [
    "Because we only want the first three sentences, we only take the first three paragraphs which will certainly include the fist three sentences.\n",
    "    \n",
    "    NOTE:  \n",
    "    [0:3] does not include the last one, so it gives 0,1,2."
   ]
  },
  {
   "cell_type": "code",
   "execution_count": 19,
   "metadata": {},
   "outputs": [],
   "source": [
    "# text = main_body.findAll('div', class_='Raw-s14xcvr1-0 AXWJq')[0:3]\n",
    "text = main_body.findAll('div', class_='Raw-s14xcvr1-0 jkSsZN')[0:3]"
   ]
  },
  {
   "cell_type": "markdown",
   "metadata": {},
   "source": [
    "Because .findAll returns a resultset, so we can not use a text attribute here. Instead, we use a for loop to get all the text in each node. And we use .append to get all the results in the loop."
   ]
  },
  {
   "cell_type": "code",
   "execution_count": 20,
   "metadata": {},
   "outputs": [],
   "source": [
    "p3=[]\n",
    "for p in text:\n",
    "   p3.append((p.text))"
   ]
  },
  {
   "cell_type": "markdown",
   "metadata": {},
   "source": [
    "To split the text into sentences, we can either do it through Regex or natural language toolkit.\n",
    "Here we use the tokensize package.\n",
    "\n",
    "But to use the tokenize.sent_tokenize() function, the object needs to be a string. But the p3 that we've got is a list.\n",
    "\n",
    "If we just use the str() function to turn it into string, the final output will be quite messy, with \\[.  \n",
    "\n",
    "If we use the p3_str = p3[0] + p3[1] + p3[2], the problem is there is no blankspace between the appended strings which leads to the failure of detection of sentence for the tokenize function.  \n",
    "\n",
    "So we use the ' '.join function to appende a list of strings."
   ]
  },
  {
   "cell_type": "code",
   "execution_count": 21,
   "metadata": {},
   "outputs": [
    {
     "data": {
      "text/plain": [
       "['Troops currently based in Afghanistan will have to remain beyond their expected departure dates and 1,500 new arrivals will stay in quarantine, the U.S. headquarters there announced Thursday as the global public health crisis surrounding the coronavirus outbreak complicates a planned withdrawal of U.S. forces.',\n",
       " '\"To preserve our currently-healthy force, Resolute Support is making the necessary adjustments to temporarily pause personnel movement into theater,\" Army Gen. Scott Miller, commander of U.S. operations in Afghanistan, said in a statement early Thursday, using the official name for the American mission there. Only essential personnel can now access U.S. bases in Afghanistan, and Americans are increasing the number of teleconferences with their Afghan counterparts instead of in-person meetings. ',\n",
       " '\"In some cases, these measures will necessitate some servicemembers remaining beyond their scheduled departure dates to continue the mission,\" Miller said. ']"
      ]
     },
     "execution_count": 21,
     "metadata": {},
     "output_type": "execute_result"
    }
   ],
   "source": [
    "p3"
   ]
  },
  {
   "cell_type": "code",
   "execution_count": 22,
   "metadata": {},
   "outputs": [
    {
     "data": {
      "text/plain": [
       "'Troops currently based in Afghanistan will have to remain beyond their expected departure dates and 1,500 new arrivals will stay in quarantine, the U.S. headquarters there announced Thursday as the global public health crisis surrounding the coronavirus outbreak complicates a planned withdrawal of U.S. forces. \"To preserve our currently-healthy force, Resolute Support is making the necessary adjustments to temporarily pause personnel movement into theater,\" Army Gen. Scott Miller, commander of U.S. operations in Afghanistan, said in a statement early Thursday, using the official name for the American mission there. Only essential personnel can now access U.S. bases in Afghanistan, and Americans are increasing the number of teleconferences with their Afghan counterparts instead of in-person meetings.  \"In some cases, these measures will necessitate some servicemembers remaining beyond their scheduled departure dates to continue the mission,\" Miller said. '"
      ]
     },
     "execution_count": 22,
     "metadata": {},
     "output_type": "execute_result"
    }
   ],
   "source": [
    "p3_str = ' '.join([p3[0],p3[1],p3[2]])\n",
    "p3_str"
   ]
  },
  {
   "cell_type": "code",
   "execution_count": 23,
   "metadata": {},
   "outputs": [],
   "source": [
    "from nltk import tokenize\n",
    "#nltk.download('punkt')"
   ]
  },
  {
   "cell_type": "code",
   "execution_count": 24,
   "metadata": {
    "scrolled": false
   },
   "outputs": [
    {
     "data": {
      "text/plain": [
       "['Troops currently based in Afghanistan will have to remain beyond their expected departure dates and 1,500 new arrivals will stay in quarantine, the U.S. headquarters there announced Thursday as the global public health crisis surrounding the coronavirus outbreak complicates a planned withdrawal of U.S. forces.',\n",
       " '\"To preserve our currently-healthy force, Resolute Support is making the necessary adjustments to temporarily pause personnel movement into theater,\" Army Gen. Scott Miller, commander of U.S. operations in Afghanistan, said in a statement early Thursday, using the official name for the American mission there.',\n",
       " 'Only essential personnel can now access U.S. bases in Afghanistan, and Americans are increasing the number of teleconferences with their Afghan counterparts instead of in-person meetings.']"
      ]
     },
     "execution_count": 24,
     "metadata": {},
     "output_type": "execute_result"
    }
   ],
   "source": [
    "sentences = tokenize.sent_tokenize(p3_str)\n",
    "three_sent =sentences[0:3]\n",
    "three_sent"
   ]
  },
  {
   "cell_type": "markdown",
   "metadata": {},
   "source": [
    "### Notes about why tokenize rathen split('.')"
   ]
  },
  {
   "cell_type": "code",
   "execution_count": 29,
   "metadata": {
    "scrolled": true
   },
   "outputs": [
    {
     "name": "stdout",
     "output_type": "stream",
     "text": [
      "First three sentences:\n",
      "Troops currently based in Afghanistan will have to remain beyond their expected departure dates and 1,500 new arrivals will stay in quarantine, the U. S. headquarters there announced Thursday as the global public health crisis surrounding the coronavirus outbreak complicates a planned withdrawal of U\n"
     ]
    }
   ],
   "source": [
    "# cannot recognize whether it's a period or not.\n",
    "main_body = soup2.find(id = 'ad-in-text-target').get_text().split('.')\n",
    "print('First three sentences:')\n",
    "print(\". \".join([sentences[i].strip() for i in range(3)]))"
   ]
  },
  {
   "cell_type": "markdown",
   "metadata": {},
   "source": [
    "### Notes about why identifying the paragraphs rather than just use the text of main_body"
   ]
  },
  {
   "cell_type": "code",
   "execution_count": 31,
   "metadata": {},
   "outputs": [
    {
     "data": {
      "text/plain": [
       "['Troops currently based in Afghanistan will have to remain beyond their expected departure dates and 1,500 new arrivals will stay in quarantine, the U.S. headquarters there announced Thursday as the global public health crisis surrounding the coronavirus outbreak complicates a planned withdrawal of U.S.',\n",
       " 'forces.',\n",
       " '[\\xa0SEE: The Week in Cartoons for March 16-20\\xa0]\"To preserve our currently-healthy force, Resolute Support is making the necessary adjustments to temporarily pause personnel movement into theater,\" Army Gen. Scott Miller, commander of U.S. operations in Afghanistan, said in a statement early Thursday, using the official name for the American mission there.']"
      ]
     },
     "execution_count": 31,
     "metadata": {},
     "output_type": "execute_result"
    }
   ],
   "source": [
    "# there will be ads in the main_body which may contain text also.\n",
    "sentences = tokenize.sent_tokenize(main_body)\n",
    "three_sent =sentences[0:3]\n",
    "three_sent"
   ]
  }
 ],
 "metadata": {
  "hide_input": false,
  "kernelspec": {
   "display_name": "Python 3",
   "language": "python",
   "name": "python3"
  },
  "language_info": {
   "codemirror_mode": {
    "name": "ipython",
    "version": 3
   },
   "file_extension": ".py",
   "mimetype": "text/x-python",
   "name": "python",
   "nbconvert_exporter": "python",
   "pygments_lexer": "ipython3",
   "version": "3.7.1"
  },
  "toc": {
   "base_numbering": 1,
   "nav_menu": {},
   "number_sections": true,
   "sideBar": true,
   "skip_h1_title": false,
   "title_cell": "Table of Contents",
   "title_sidebar": "Contents",
   "toc_cell": false,
   "toc_position": {},
   "toc_section_display": true,
   "toc_window_display": true
  },
  "varInspector": {
   "cols": {
    "lenName": 16,
    "lenType": 16,
    "lenVar": 40
   },
   "kernels_config": {
    "python": {
     "delete_cmd_postfix": "",
     "delete_cmd_prefix": "del ",
     "library": "var_list.py",
     "varRefreshCmd": "print(var_dic_list())"
    },
    "r": {
     "delete_cmd_postfix": ") ",
     "delete_cmd_prefix": "rm(",
     "library": "var_list.r",
     "varRefreshCmd": "cat(var_dic_list()) "
    }
   },
   "types_to_exclude": [
    "module",
    "function",
    "builtin_function_or_method",
    "instance",
    "_Feature"
   ],
   "window_display": false
  }
 },
 "nbformat": 4,
 "nbformat_minor": 2
}
